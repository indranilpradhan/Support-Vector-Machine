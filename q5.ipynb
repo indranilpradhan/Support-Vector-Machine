{
 "cells": [
  {
   "cell_type": "markdown",
   "metadata": {},
   "source": [
    "# Given a dataset which contains a excerpts of text written by some author and thecorresponding author tag, implement an SVM classifier to predict the author tag of the test text excerpts"
   ]
  },
  {
   "cell_type": "code",
   "execution_count": 31,
   "metadata": {},
   "outputs": [],
   "source": [
    "import numpy as np\n",
    "import pandas as pd\n",
    "from numpy.random import RandomState\n",
    "from collections import Counter\n",
    "import matplotlib.pyplot as plt\n",
    "import matplotlib as mpl\n",
    "from sklearn import svm\n",
    "from sklearn import svm\n",
    "from sklearn.feature_extraction.text import TfidfVectorizer\n",
    "from sklearn.metrics import confusion_matrix\n",
    "from sklearn.metrics import classification_report\n",
    "from sklearn.pipeline import Pipeline\n",
    "from sklearn.linear_model import SGDClassifier\n",
    "from sklearn.svm import SVC\n",
    "import re\n",
    "from nltk.corpus import stopwords"
   ]
  },
  {
   "cell_type": "markdown",
   "metadata": {},
   "source": [
    "# Accuracy calculation"
   ]
  },
  {
   "cell_type": "code",
   "execution_count": 32,
   "metadata": {},
   "outputs": [],
   "source": [
    "def accuracy(y_real, y_pred):\n",
    "    accuracy = np.sum(y_real == y_pred) / len(y_real)\n",
    "    return accuracy"
   ]
  },
  {
   "cell_type": "markdown",
   "metadata": {},
   "source": [
    "# Loading the data"
   ]
  },
  {
   "cell_type": "code",
   "execution_count": 33,
   "metadata": {},
   "outputs": [],
   "source": [
    "df = pd.read_csv('/media/indranil/New Volume1/second sem/SMAI/Assignment 2/q5/data/Train(1).csv')\n",
    "df = df.iloc[:,1:]\n",
    "rng = RandomState()\n",
    "train = df.sample(frac=0.8,random_state = rng)\n",
    "validation = df.loc[~df.index.isin(train.index)]\n",
    "X_train,Y_train_temp = train.iloc[:,:], train.iloc[:,:]\n",
    "X_validation,Y_validation_temp = validation.iloc[:, :], validation.iloc[:,:]\n",
    "Y_train = []\n",
    "Y_validation = []\n",
    "for i in np.array(Y_train_temp):\n",
    "    Y_train.append(i[0])\n",
    "for i in np.array(Y_validation_temp):\n",
    "    Y_validation.append(i[0])"
   ]
  },
  {
   "cell_type": "markdown",
   "metadata": {},
   "source": [
    "# Support vector machine with the parameter for the soft margin cost function C=1000"
   ]
  },
  {
   "cell_type": "code",
   "execution_count": 313,
   "metadata": {},
   "outputs": [],
   "source": [
    "svc1 = Pipeline([('vect', TfidfVectorizer()),\n",
    "                     ('clf', SVC(C=1000)),\n",
    "])\n",
    "svc1.fit(X_train.text, X_train.author)\n",
    "predicted1 = svc1.predict(X_validation.text)"
   ]
  },
  {
   "cell_type": "code",
   "execution_count": 314,
   "metadata": {},
   "outputs": [
    {
     "data": {
      "text/plain": [
       "0.8155122885413342"
      ]
     },
     "execution_count": 314,
     "metadata": {},
     "output_type": "execute_result"
    }
   ],
   "source": [
    "np.mean(predicted1 == X_validation.author)"
   ]
  },
  {
   "cell_type": "code",
   "execution_count": 310,
   "metadata": {},
   "outputs": [
    {
     "name": "stdout",
     "output_type": "stream",
     "text": [
      "[[1018   88   84]\n",
      " [ 156  743   41]\n",
      " [ 198   58  747]]\n"
     ]
    }
   ],
   "source": [
    "print(confusion_matrix(X_validation.author, predicted1))"
   ]
  },
  {
   "cell_type": "code",
   "execution_count": 311,
   "metadata": {},
   "outputs": [
    {
     "name": "stdout",
     "output_type": "stream",
     "text": [
      "              precision    recall  f1-score   support\n",
      "\n",
      "         EAP       0.74      0.86      0.79      1190\n",
      "         HPL       0.84      0.79      0.81       940\n",
      "         MWS       0.86      0.74      0.80      1003\n",
      "\n",
      "    accuracy                           0.80      3133\n",
      "   macro avg       0.81      0.80      0.80      3133\n",
      "weighted avg       0.81      0.80      0.80      3133\n",
      "\n"
     ]
    }
   ],
   "source": [
    "print(classification_report(X_validation.author, predicted1))"
   ]
  },
  {
   "cell_type": "markdown",
   "metadata": {},
   "source": [
    "# Support vector machine with the parameter for the soft margin cost function C=100"
   ]
  },
  {
   "cell_type": "code",
   "execution_count": 363,
   "metadata": {},
   "outputs": [],
   "source": [
    "svc2 = Pipeline([('vect', TfidfVectorizer()),\n",
    "                     ('clf', SVC(C=100)),\n",
    "])\n",
    "svc2.fit(X_train.text, X_train.author)\n",
    "predicted2 = svc2.predict(X_validation.text)"
   ]
  },
  {
   "cell_type": "code",
   "execution_count": 364,
   "metadata": {},
   "outputs": [
    {
     "data": {
      "text/plain": [
       "0.8078518991382062"
      ]
     },
     "execution_count": 364,
     "metadata": {},
     "output_type": "execute_result"
    }
   ],
   "source": [
    "np.mean(predicted2 == X_validation.author)"
   ]
  },
  {
   "cell_type": "code",
   "execution_count": 365,
   "metadata": {},
   "outputs": [
    {
     "name": "stdout",
     "output_type": "stream",
     "text": [
      "[[1070   97   71]\n",
      " [ 158  707   55]\n",
      " [ 166   55  754]]\n"
     ]
    }
   ],
   "source": [
    "print(confusion_matrix(X_validation.author, predicted2))"
   ]
  },
  {
   "cell_type": "code",
   "execution_count": 366,
   "metadata": {},
   "outputs": [
    {
     "name": "stdout",
     "output_type": "stream",
     "text": [
      "              precision    recall  f1-score   support\n",
      "\n",
      "         EAP       0.77      0.86      0.81      1238\n",
      "         HPL       0.82      0.77      0.79       920\n",
      "         MWS       0.86      0.77      0.81       975\n",
      "\n",
      "    accuracy                           0.81      3133\n",
      "   macro avg       0.82      0.80      0.81      3133\n",
      "weighted avg       0.81      0.81      0.81      3133\n",
      "\n"
     ]
    }
   ],
   "source": [
    "print(classification_report(X_validation.author, predicted2))"
   ]
  },
  {
   "cell_type": "markdown",
   "metadata": {},
   "source": [
    "# Support vector machine with the parameter for the soft margin cost function C=10"
   ]
  },
  {
   "cell_type": "code",
   "execution_count": 346,
   "metadata": {},
   "outputs": [],
   "source": [
    "svc3 = Pipeline([('vect', TfidfVectorizer()),\n",
    "                     ('clf', SVC(C=10)),\n",
    "])\n",
    "svc3.fit(X_train.text, X_train.author)\n",
    "predicted3 = svc3.predict(X_validation.text)"
   ]
  },
  {
   "cell_type": "code",
   "execution_count": 347,
   "metadata": {},
   "outputs": [
    {
     "data": {
      "text/plain": [
       "0.8078518991382062"
      ]
     },
     "execution_count": 347,
     "metadata": {},
     "output_type": "execute_result"
    }
   ],
   "source": [
    "np.mean(predicted3 == X_validation.author)"
   ]
  },
  {
   "cell_type": "code",
   "execution_count": 348,
   "metadata": {},
   "outputs": [
    {
     "name": "stdout",
     "output_type": "stream",
     "text": [
      "[[1070   97   71]\n",
      " [ 158  707   55]\n",
      " [ 166   55  754]]\n"
     ]
    }
   ],
   "source": [
    "print(confusion_matrix(X_validation.author, predicted3))"
   ]
  },
  {
   "cell_type": "code",
   "execution_count": 349,
   "metadata": {},
   "outputs": [
    {
     "name": "stdout",
     "output_type": "stream",
     "text": [
      "              precision    recall  f1-score   support\n",
      "\n",
      "         EAP       0.77      0.86      0.81      1238\n",
      "         HPL       0.82      0.77      0.79       920\n",
      "         MWS       0.86      0.77      0.81       975\n",
      "\n",
      "    accuracy                           0.81      3133\n",
      "   macro avg       0.82      0.80      0.81      3133\n",
      "weighted avg       0.81      0.81      0.81      3133\n",
      "\n"
     ]
    }
   ],
   "source": [
    "print(classification_report(X_validation.author, predicted3))"
   ]
  },
  {
   "cell_type": "markdown",
   "metadata": {},
   "source": [
    "# Support vector machine using Linear Kernel"
   ]
  },
  {
   "cell_type": "code",
   "execution_count": 350,
   "metadata": {},
   "outputs": [],
   "source": [
    "svc4 = Pipeline([('vect', TfidfVectorizer()),\n",
    "                     ('clf', SVC(kernel='linear')),\n",
    "])\n",
    "svc4.fit(X_train.text, X_train.author)\n",
    "predicted4 = svc4.predict(X_validation.text)"
   ]
  },
  {
   "cell_type": "code",
   "execution_count": 351,
   "metadata": {},
   "outputs": [
    {
     "data": {
      "text/plain": [
       "0.7992339610596872"
      ]
     },
     "execution_count": 351,
     "metadata": {},
     "output_type": "execute_result"
    }
   ],
   "source": [
    "np.mean(predicted4 == X_validation.author)"
   ]
  },
  {
   "cell_type": "code",
   "execution_count": 352,
   "metadata": {},
   "outputs": [
    {
     "name": "stdout",
     "output_type": "stream",
     "text": [
      "[[1041  113   84]\n",
      " [ 155  711   54]\n",
      " [ 168   55  752]]\n"
     ]
    }
   ],
   "source": [
    "print(confusion_matrix(X_validation.author, predicted4))"
   ]
  },
  {
   "cell_type": "code",
   "execution_count": 353,
   "metadata": {},
   "outputs": [
    {
     "name": "stdout",
     "output_type": "stream",
     "text": [
      "              precision    recall  f1-score   support\n",
      "\n",
      "         EAP       0.70      0.75      0.73      1238\n",
      "         HPL       0.77      0.68      0.72       920\n",
      "         MWS       0.72      0.73      0.73       975\n",
      "\n",
      "    accuracy                           0.73      3133\n",
      "   macro avg       0.73      0.72      0.73      3133\n",
      "weighted avg       0.73      0.73      0.73      3133\n",
      "\n"
     ]
    }
   ],
   "source": [
    "print(classification_report(X_validation.author, predicted))"
   ]
  },
  {
   "cell_type": "markdown",
   "metadata": {},
   "source": [
    "# Support vector machine using Polynomial Kernel"
   ]
  },
  {
   "cell_type": "code",
   "execution_count": 354,
   "metadata": {},
   "outputs": [],
   "source": [
    "svc5 = Pipeline([('vect', TfidfVectorizer()),\n",
    "                     ('clf', SVC( kernel='poly')),\n",
    "])\n",
    "svc5.fit(X_train.text, X_train.author)\n",
    "predicted5 = svc5.predict(X_validation.text)"
   ]
  },
  {
   "cell_type": "code",
   "execution_count": 355,
   "metadata": {},
   "outputs": [
    {
     "data": {
      "text/plain": [
       "0.42642834344079156"
      ]
     },
     "execution_count": 355,
     "metadata": {},
     "output_type": "execute_result"
    }
   ],
   "source": [
    "np.mean(predicted5 == X_validation.author)"
   ]
  },
  {
   "cell_type": "code",
   "execution_count": 356,
   "metadata": {},
   "outputs": [
    {
     "name": "stdout",
     "output_type": "stream",
     "text": [
      "[[1223    4   11]\n",
      " [ 892   23    5]\n",
      " [ 885    0   90]]\n"
     ]
    }
   ],
   "source": [
    "print(confusion_matrix(X_validation.author, predicted5))"
   ]
  },
  {
   "cell_type": "code",
   "execution_count": 357,
   "metadata": {},
   "outputs": [
    {
     "name": "stdout",
     "output_type": "stream",
     "text": [
      "              precision    recall  f1-score   support\n",
      "\n",
      "         EAP       0.41      0.99      0.58      1238\n",
      "         HPL       0.85      0.03      0.05       920\n",
      "         MWS       0.85      0.09      0.17       975\n",
      "\n",
      "    accuracy                           0.43      3133\n",
      "   macro avg       0.70      0.37      0.26      3133\n",
      "weighted avg       0.68      0.43      0.29      3133\n",
      "\n"
     ]
    }
   ],
   "source": [
    "print(classification_report(X_validation.author, predicted5))"
   ]
  },
  {
   "cell_type": "markdown",
   "metadata": {},
   "source": [
    "# Support vector machine using RBF Kernel"
   ]
  },
  {
   "cell_type": "code",
   "execution_count": 359,
   "metadata": {},
   "outputs": [],
   "source": [
    "svc6 = Pipeline([('vect', TfidfVectorizer()),\n",
    "                     ('clf', SVC( kernel='rbf')),\n",
    "])\n",
    "svc6.fit(X_train.text, X_train.author)\n",
    "predicted6 = svc6.predict(X_validation.text)"
   ]
  },
  {
   "cell_type": "code",
   "execution_count": 360,
   "metadata": {},
   "outputs": [
    {
     "data": {
      "text/plain": [
       "0.7931694861155442"
      ]
     },
     "execution_count": 360,
     "metadata": {},
     "output_type": "execute_result"
    }
   ],
   "source": [
    "np.mean(predicted6 == X_validation.author)"
   ]
  },
  {
   "cell_type": "code",
   "execution_count": 361,
   "metadata": {},
   "outputs": [
    {
     "name": "stdout",
     "output_type": "stream",
     "text": [
      "[[1080   86   72]\n",
      " [ 182  689   49]\n",
      " [ 202   57  716]]\n"
     ]
    }
   ],
   "source": [
    "print(confusion_matrix(X_validation.author, predicted6))"
   ]
  },
  {
   "cell_type": "code",
   "execution_count": 362,
   "metadata": {},
   "outputs": [
    {
     "name": "stdout",
     "output_type": "stream",
     "text": [
      "              precision    recall  f1-score   support\n",
      "\n",
      "         EAP       0.74      0.87      0.80      1238\n",
      "         HPL       0.83      0.75      0.79       920\n",
      "         MWS       0.86      0.73      0.79       975\n",
      "\n",
      "    accuracy                           0.79      3133\n",
      "   macro avg       0.81      0.79      0.79      3133\n",
      "weighted avg       0.80      0.79      0.79      3133\n",
      "\n"
     ]
    }
   ],
   "source": [
    "print(classification_report(X_validation.author, predicted6))"
   ]
  },
  {
   "cell_type": "markdown",
   "metadata": {},
   "source": [
    "# Support vector machine applied with some Data pre processing. All the cases have been lower cases. Digits and punctuation have been removed. Stop words like and, this, or, so in, to have been removed."
   ]
  },
  {
   "cell_type": "code",
   "execution_count": 34,
   "metadata": {},
   "outputs": [],
   "source": [
    "df.loc[:,\"text\"] = df.text.apply(lambda x : str.lower(x))\n",
    "df.loc[:,\"text\"] = df.text.apply(lambda x : \" \".join(re.findall('[\\w]+',x)))\n",
    "df = df.replace(to_replace =[\"and\",\"And\",\"this\",\"This\",\"or\",\"So\",\"in\",\"In\",\"to\",\"To\"],value =\"\") "
   ]
  },
  {
   "cell_type": "markdown",
   "metadata": {},
   "source": [
    "# Loading the data"
   ]
  },
  {
   "cell_type": "code",
   "execution_count": 35,
   "metadata": {},
   "outputs": [],
   "source": [
    "rng = RandomState()\n",
    "train = df.sample(frac=0.8,random_state = rng)\n",
    "validation = df.loc[~df.index.isin(train.index)]\n",
    "X_train,Y_train_temp = train.iloc[:,:], train.iloc[:,:]\n",
    "X_validation,Y_validation_temp = validation.iloc[:, :], validation.iloc[:,:]\n",
    "Y_train = []\n",
    "Y_validation = []\n",
    "for i in np.array(Y_train_temp):\n",
    "    Y_train.append(i[0])\n",
    "for i in np.array(Y_validation_temp):\n",
    "    Y_validation.append(i[0])"
   ]
  },
  {
   "cell_type": "markdown",
   "metadata": {},
   "source": [
    "# After applying SVM on pre processed data the result has been improved. The unnecessary words like or,and so, the has been removed which carry no value to our result. All the words are lower cases so e.g. The and the are same now. Punctuation and digits have been removed which carry no meaning in our result. As a result of this the result has been imporved."
   ]
  },
  {
   "cell_type": "code",
   "execution_count": 37,
   "metadata": {},
   "outputs": [
    {
     "data": {
      "text/plain": [
       "0.8276412384296201"
      ]
     },
     "execution_count": 37,
     "metadata": {},
     "output_type": "execute_result"
    }
   ],
   "source": [
    "text_clf = Pipeline([('vect', TfidfVectorizer()),\n",
    "                     ('clf', SVC(C=1000)),\n",
    "])\n",
    "text_clf.fit(X_train.text, X_train.author)\n",
    "predicted = text_clf.predict(X_validation.text)\n",
    "np.mean(predicted == X_validation.author)"
   ]
  },
  {
   "cell_type": "code",
   "execution_count": 39,
   "metadata": {},
   "outputs": [
    {
     "name": "stdout",
     "output_type": "stream",
     "text": [
      "[[1123   70   90]\n",
      " [ 151  709   44]\n",
      " [ 122   63  761]]\n"
     ]
    }
   ],
   "source": [
    "print(confusion_matrix(X_validation.author, predicted))"
   ]
  },
  {
   "cell_type": "code",
   "execution_count": 41,
   "metadata": {},
   "outputs": [
    {
     "name": "stdout",
     "output_type": "stream",
     "text": [
      "              precision    recall  f1-score   support\n",
      "\n",
      "         EAP       0.80      0.88      0.84      1283\n",
      "         HPL       0.84      0.78      0.81       904\n",
      "         MWS       0.85      0.80      0.83       946\n",
      "\n",
      "    accuracy                           0.83      3133\n",
      "   macro avg       0.83      0.82      0.83      3133\n",
      "weighted avg       0.83      0.83      0.83      3133\n",
      "\n"
     ]
    }
   ],
   "source": [
    "print(classification_report(X_validation.author, predicted))"
   ]
  },
  {
   "cell_type": "code",
   "execution_count": null,
   "metadata": {},
   "outputs": [],
   "source": []
  }
 ],
 "metadata": {
  "kernelspec": {
   "display_name": "Python 3",
   "language": "python",
   "name": "python3"
  },
  "language_info": {
   "codemirror_mode": {
    "name": "ipython",
    "version": 3
   },
   "file_extension": ".py",
   "mimetype": "text/x-python",
   "name": "python",
   "nbconvert_exporter": "python",
   "pygments_lexer": "ipython3",
   "version": "3.6.9"
  }
 },
 "nbformat": 4,
 "nbformat_minor": 4
}
